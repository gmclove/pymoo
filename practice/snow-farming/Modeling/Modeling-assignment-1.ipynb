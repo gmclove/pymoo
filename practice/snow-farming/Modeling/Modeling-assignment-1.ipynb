{
 "cells": [
  {
   "cell_type": "markdown",
   "metadata": {},
   "source": [
    "# Building a Model for Snow Melt: Version 0\n",
    "\n",
    "The objective is to build the simplest model possible of snow melt, assuming that the snow pile is not insulated and experiences only solar radiation provided by Wunderground data.\n",
    "\n",
    "## Deliverables:\n",
    "\n",
    "<ol>\n",
    "    <li> Derive the equation for your model in its exact mathematical form and in its discretized form. </li>\n",
    "    <li> Write a python function that predicts the volume loss for a given time series (i.e. period of time) as a function of time.</li>\n",
    "    <li> Compare volume loss between 2017-06-11 and 2017-10-01 and between 2018-06-11 and 2018-10-01</li>\n",
    "    </ol>\n",
    "    \n",
    "## Help\n",
    "\n",
    "Consider the ODE:\n",
    "\n",
    "$$\n",
    "\\frac{df}{dt}=g(t)\n",
    "$$\n",
    "\n",
    "The solution of the continuous problem between time $0$ and $t$ is\n",
    "\n",
    "$$\n",
    "\\int_{0}^t\\frac{df}{dt}dt=f(t)-f(0)=\\int_{0}^tg(t)dt\\Leftrightarrow f(t)=f(0)+\\int_{0}^tg(t)dt\n",
    "$$\n",
    "\n",
    "The discretization of this ODE at a first order accuracy in time writes:\n",
    "\n",
    "$$\n",
    "\\frac{f(t+\\Delta t)-f(t)}{\\Delta t}=g(t)\n",
    "$$\n",
    "\n",
    "Therefore\n",
    "\n",
    "$$\n",
    "f(t+\\Delta t)=f(t)+(\\Delta t)g(t)\n",
    "$$\n",
    "\n",
    "or\n",
    "\n",
    "$$\n",
    "f(t_n) = f(0) +\\sum_{k=0}^{n-1}\\Delta t\\,g(t_k),\\; n\\leq1\\text{ and } t_n=n\\Delta t\n",
    "$$"
   ]
  },
  {
   "cell_type": "markdown",
   "metadata": {},
   "source": [
    "\n",
    "## 1 Equations\n",
    "\n",
    "The simplified system assumes:\n",
    "<ol>\n",
    "    <li>The only mode of heat transfer radiation onto the pile is solar radiation.</li>\n",
    "    <li>The worst case scenario is assumed, the incidence of radiation is assumed to be perpendicular to the exposed surface area $A_{sr}$.</li>\n",
    "    <li>The density of snow is in the range $500-600kg/m^3$</li>\n",
    "    <li>The effect of the melt water film is ignored</li>\n",
    "    </ol>\n",
    "Under these assumptioms, the conservation of energy applied to the snow pile writes:\n",
    "\n",
    "$$\n",
    "\\rho_{snow}h_{L,snow}A_{sr}\\frac{dh}{dt}=-q''_{sr}A_{sr}\n",
    "$$\n",
    "where $h$ is the height of the snow pile. Since $A_{sr}dh/dt=dV_{loss}/dt$,\n",
    "\n",
    "$$\n",
    "\\frac{dV_{loss}}{dt}=-\\frac{q''_{sr}A_{sr}}{\\rho_{snow}h_{L,snow}}\n",
    "$$\n",
    "since "
   ]
  },
  {
   "cell_type": "markdown",
   "metadata": {},
   "source": [
    "### Python set-up and useful functions"
   ]
  },
  {
   "cell_type": "code",
   "execution_count": 11,
   "metadata": {},
   "outputs": [],
   "source": [
    "%matplotlib inline \n",
    "\n",
    "\n",
    "import matplotlib.pyplot as plt\n",
    "import numpy as np\n",
    "import math\n",
    "import scipy.constants as sc\n",
    "import h5py\n",
    "\n",
    "\n",
    "import sympy as sym\n",
    "\n",
    "\n",
    "\n",
    "\n",
    "font = {'family' : 'serif',\n",
    "        #'color'  : 'black',\n",
    "        'weight' : 'normal',\n",
    "        'size'   : 16,\n",
    "        }\n",
    "fontlabel = {'family' : 'serif',\n",
    "        #'color'  : 'black',\n",
    "        'weight' : 'normal',\n",
    "        'size'   : 16,\n",
    "        }\n",
    "\n",
    "\n",
    "from matplotlib.ticker import FormatStrFormatter\n",
    "plt.rc('font', **font)\n"
   ]
  },
  {
   "cell_type": "code",
   "execution_count": 12,
   "metadata": {},
   "outputs": [
    {
     "name": "stdout",
     "output_type": "stream",
     "text": [
      "<function abspath at 0x107a72e18>\n"
     ]
    },
    {
     "data": {
      "text/html": [
       "<div>\n",
       "<style scoped>\n",
       "    .dataframe tbody tr th:only-of-type {\n",
       "        vertical-align: middle;\n",
       "    }\n",
       "\n",
       "    .dataframe tbody tr th {\n",
       "        vertical-align: top;\n",
       "    }\n",
       "\n",
       "    .dataframe thead th {\n",
       "        text-align: right;\n",
       "    }\n",
       "</style>\n",
       "<table border=\"1\" class=\"dataframe\">\n",
       "  <thead>\n",
       "    <tr style=\"text-align: right;\">\n",
       "      <th></th>\n",
       "      <th>temperature</th>\n",
       "      <th>dewpoint</th>\n",
       "      <th>humidity</th>\n",
       "      <th>wind_speed</th>\n",
       "      <th>wind_gust_speed</th>\n",
       "      <th>wind_dir_degrees</th>\n",
       "      <th>pressure</th>\n",
       "      <th>windchill</th>\n",
       "      <th>heatindex</th>\n",
       "      <th>precip</th>\n",
       "      <th>precip_rate</th>\n",
       "      <th>precip_1hr</th>\n",
       "      <th>precip_today</th>\n",
       "      <th>solarradiation</th>\n",
       "      <th>uv_index</th>\n",
       "      <th>temperature_indoor</th>\n",
       "      <th>software_type</th>\n",
       "      <th>event</th>\n",
       "      <th>conditions</th>\n",
       "    </tr>\n",
       "    <tr>\n",
       "      <th>date</th>\n",
       "      <th></th>\n",
       "      <th></th>\n",
       "      <th></th>\n",
       "      <th></th>\n",
       "      <th></th>\n",
       "      <th></th>\n",
       "      <th></th>\n",
       "      <th></th>\n",
       "      <th></th>\n",
       "      <th></th>\n",
       "      <th></th>\n",
       "      <th></th>\n",
       "      <th></th>\n",
       "      <th></th>\n",
       "      <th></th>\n",
       "      <th></th>\n",
       "      <th></th>\n",
       "      <th></th>\n",
       "      <th></th>\n",
       "    </tr>\n",
       "  </thead>\n",
       "  <tbody>\n",
       "    <tr>\n",
       "      <th>2017-06-11 00:00:00</th>\n",
       "      <td>17.1</td>\n",
       "      <td>14.4</td>\n",
       "      <td>83.0</td>\n",
       "      <td>0.0</td>\n",
       "      <td>0.0</td>\n",
       "      <td>360.0</td>\n",
       "      <td>1010.7</td>\n",
       "      <td>NaN</td>\n",
       "      <td>NaN</td>\n",
       "      <td>NaN</td>\n",
       "      <td>0.0</td>\n",
       "      <td>0.0</td>\n",
       "      <td>0.0</td>\n",
       "      <td>0.0</td>\n",
       "      <td>NaN</td>\n",
       "      <td>NaN</td>\n",
       "      <td>NaN</td>\n",
       "      <td>NaN</td>\n",
       "      <td>NaN</td>\n",
       "    </tr>\n",
       "    <tr>\n",
       "      <th>2017-06-11 00:30:00</th>\n",
       "      <td>17.3</td>\n",
       "      <td>14.4</td>\n",
       "      <td>83.0</td>\n",
       "      <td>0.0</td>\n",
       "      <td>3.2</td>\n",
       "      <td>360.0</td>\n",
       "      <td>1010.7</td>\n",
       "      <td>NaN</td>\n",
       "      <td>NaN</td>\n",
       "      <td>0.0</td>\n",
       "      <td>0.0</td>\n",
       "      <td>0.0</td>\n",
       "      <td>0.0</td>\n",
       "      <td>0.0</td>\n",
       "      <td>NaN</td>\n",
       "      <td>NaN</td>\n",
       "      <td>NaN</td>\n",
       "      <td>NaN</td>\n",
       "      <td>NaN</td>\n",
       "    </tr>\n",
       "    <tr>\n",
       "      <th>2017-06-11 01:00:00</th>\n",
       "      <td>17.2</td>\n",
       "      <td>13.9</td>\n",
       "      <td>82.0</td>\n",
       "      <td>0.0</td>\n",
       "      <td>0.0</td>\n",
       "      <td>360.0</td>\n",
       "      <td>1011.1</td>\n",
       "      <td>NaN</td>\n",
       "      <td>NaN</td>\n",
       "      <td>0.0</td>\n",
       "      <td>0.0</td>\n",
       "      <td>0.0</td>\n",
       "      <td>0.0</td>\n",
       "      <td>0.0</td>\n",
       "      <td>NaN</td>\n",
       "      <td>NaN</td>\n",
       "      <td>NaN</td>\n",
       "      <td>NaN</td>\n",
       "      <td>NaN</td>\n",
       "    </tr>\n",
       "    <tr>\n",
       "      <th>2017-06-11 01:30:00</th>\n",
       "      <td>16.4</td>\n",
       "      <td>13.9</td>\n",
       "      <td>85.0</td>\n",
       "      <td>0.0</td>\n",
       "      <td>0.0</td>\n",
       "      <td>360.0</td>\n",
       "      <td>1010.7</td>\n",
       "      <td>NaN</td>\n",
       "      <td>NaN</td>\n",
       "      <td>0.0</td>\n",
       "      <td>0.0</td>\n",
       "      <td>0.0</td>\n",
       "      <td>0.0</td>\n",
       "      <td>0.0</td>\n",
       "      <td>NaN</td>\n",
       "      <td>NaN</td>\n",
       "      <td>NaN</td>\n",
       "      <td>NaN</td>\n",
       "      <td>NaN</td>\n",
       "    </tr>\n",
       "    <tr>\n",
       "      <th>2017-06-11 02:00:00</th>\n",
       "      <td>16.4</td>\n",
       "      <td>13.9</td>\n",
       "      <td>86.0</td>\n",
       "      <td>0.0</td>\n",
       "      <td>1.6</td>\n",
       "      <td>360.0</td>\n",
       "      <td>1010.7</td>\n",
       "      <td>NaN</td>\n",
       "      <td>NaN</td>\n",
       "      <td>0.0</td>\n",
       "      <td>0.0</td>\n",
       "      <td>0.0</td>\n",
       "      <td>0.0</td>\n",
       "      <td>0.0</td>\n",
       "      <td>NaN</td>\n",
       "      <td>NaN</td>\n",
       "      <td>NaN</td>\n",
       "      <td>NaN</td>\n",
       "      <td>NaN</td>\n",
       "    </tr>\n",
       "    <tr>\n",
       "      <th>2017-06-11 02:30:00</th>\n",
       "      <td>16.4</td>\n",
       "      <td>13.9</td>\n",
       "      <td>86.0</td>\n",
       "      <td>0.0</td>\n",
       "      <td>0.0</td>\n",
       "      <td>360.0</td>\n",
       "      <td>1010.7</td>\n",
       "      <td>NaN</td>\n",
       "      <td>NaN</td>\n",
       "      <td>0.0</td>\n",
       "      <td>0.0</td>\n",
       "      <td>0.0</td>\n",
       "      <td>0.0</td>\n",
       "      <td>0.0</td>\n",
       "      <td>NaN</td>\n",
       "      <td>NaN</td>\n",
       "      <td>NaN</td>\n",
       "      <td>NaN</td>\n",
       "      <td>NaN</td>\n",
       "    </tr>\n",
       "    <tr>\n",
       "      <th>2017-06-11 03:00:00</th>\n",
       "      <td>16.4</td>\n",
       "      <td>13.9</td>\n",
       "      <td>85.0</td>\n",
       "      <td>0.0</td>\n",
       "      <td>0.0</td>\n",
       "      <td>360.0</td>\n",
       "      <td>1010.7</td>\n",
       "      <td>NaN</td>\n",
       "      <td>NaN</td>\n",
       "      <td>0.0</td>\n",
       "      <td>0.0</td>\n",
       "      <td>0.0</td>\n",
       "      <td>0.0</td>\n",
       "      <td>0.0</td>\n",
       "      <td>NaN</td>\n",
       "      <td>NaN</td>\n",
       "      <td>NaN</td>\n",
       "      <td>NaN</td>\n",
       "      <td>NaN</td>\n",
       "    </tr>\n",
       "    <tr>\n",
       "      <th>2017-06-11 03:30:00</th>\n",
       "      <td>16.6</td>\n",
       "      <td>13.9</td>\n",
       "      <td>85.0</td>\n",
       "      <td>0.0</td>\n",
       "      <td>0.0</td>\n",
       "      <td>360.0</td>\n",
       "      <td>1010.7</td>\n",
       "      <td>NaN</td>\n",
       "      <td>NaN</td>\n",
       "      <td>0.0</td>\n",
       "      <td>0.0</td>\n",
       "      <td>0.0</td>\n",
       "      <td>0.0</td>\n",
       "      <td>0.0</td>\n",
       "      <td>NaN</td>\n",
       "      <td>NaN</td>\n",
       "      <td>NaN</td>\n",
       "      <td>NaN</td>\n",
       "      <td>NaN</td>\n",
       "    </tr>\n",
       "    <tr>\n",
       "      <th>2017-06-11 04:00:00</th>\n",
       "      <td>16.3</td>\n",
       "      <td>13.9</td>\n",
       "      <td>86.0</td>\n",
       "      <td>0.0</td>\n",
       "      <td>0.0</td>\n",
       "      <td>360.0</td>\n",
       "      <td>1010.7</td>\n",
       "      <td>NaN</td>\n",
       "      <td>NaN</td>\n",
       "      <td>0.0</td>\n",
       "      <td>0.0</td>\n",
       "      <td>0.0</td>\n",
       "      <td>0.0</td>\n",
       "      <td>0.0</td>\n",
       "      <td>NaN</td>\n",
       "      <td>NaN</td>\n",
       "      <td>NaN</td>\n",
       "      <td>NaN</td>\n",
       "      <td>NaN</td>\n",
       "    </tr>\n",
       "    <tr>\n",
       "      <th>2017-06-11 04:30:00</th>\n",
       "      <td>16.6</td>\n",
       "      <td>13.9</td>\n",
       "      <td>85.0</td>\n",
       "      <td>0.0</td>\n",
       "      <td>1.6</td>\n",
       "      <td>360.0</td>\n",
       "      <td>1010.7</td>\n",
       "      <td>NaN</td>\n",
       "      <td>NaN</td>\n",
       "      <td>0.0</td>\n",
       "      <td>0.0</td>\n",
       "      <td>0.0</td>\n",
       "      <td>0.0</td>\n",
       "      <td>0.0</td>\n",
       "      <td>NaN</td>\n",
       "      <td>NaN</td>\n",
       "      <td>NaN</td>\n",
       "      <td>NaN</td>\n",
       "      <td>NaN</td>\n",
       "    </tr>\n",
       "  </tbody>\n",
       "</table>\n",
       "</div>"
      ],
      "text/plain": [
       "                     temperature  dewpoint  humidity  wind_speed  \\\n",
       "date                                                               \n",
       "2017-06-11 00:00:00         17.1      14.4      83.0         0.0   \n",
       "2017-06-11 00:30:00         17.3      14.4      83.0         0.0   \n",
       "2017-06-11 01:00:00         17.2      13.9      82.0         0.0   \n",
       "2017-06-11 01:30:00         16.4      13.9      85.0         0.0   \n",
       "2017-06-11 02:00:00         16.4      13.9      86.0         0.0   \n",
       "2017-06-11 02:30:00         16.4      13.9      86.0         0.0   \n",
       "2017-06-11 03:00:00         16.4      13.9      85.0         0.0   \n",
       "2017-06-11 03:30:00         16.6      13.9      85.0         0.0   \n",
       "2017-06-11 04:00:00         16.3      13.9      86.0         0.0   \n",
       "2017-06-11 04:30:00         16.6      13.9      85.0         0.0   \n",
       "\n",
       "                     wind_gust_speed  wind_dir_degrees  pressure  windchill  \\\n",
       "date                                                                          \n",
       "2017-06-11 00:00:00              0.0             360.0    1010.7        NaN   \n",
       "2017-06-11 00:30:00              3.2             360.0    1010.7        NaN   \n",
       "2017-06-11 01:00:00              0.0             360.0    1011.1        NaN   \n",
       "2017-06-11 01:30:00              0.0             360.0    1010.7        NaN   \n",
       "2017-06-11 02:00:00              1.6             360.0    1010.7        NaN   \n",
       "2017-06-11 02:30:00              0.0             360.0    1010.7        NaN   \n",
       "2017-06-11 03:00:00              0.0             360.0    1010.7        NaN   \n",
       "2017-06-11 03:30:00              0.0             360.0    1010.7        NaN   \n",
       "2017-06-11 04:00:00              0.0             360.0    1010.7        NaN   \n",
       "2017-06-11 04:30:00              1.6             360.0    1010.7        NaN   \n",
       "\n",
       "                     heatindex  precip  precip_rate  precip_1hr  precip_today  \\\n",
       "date                                                                            \n",
       "2017-06-11 00:00:00        NaN     NaN          0.0         0.0           0.0   \n",
       "2017-06-11 00:30:00        NaN     0.0          0.0         0.0           0.0   \n",
       "2017-06-11 01:00:00        NaN     0.0          0.0         0.0           0.0   \n",
       "2017-06-11 01:30:00        NaN     0.0          0.0         0.0           0.0   \n",
       "2017-06-11 02:00:00        NaN     0.0          0.0         0.0           0.0   \n",
       "2017-06-11 02:30:00        NaN     0.0          0.0         0.0           0.0   \n",
       "2017-06-11 03:00:00        NaN     0.0          0.0         0.0           0.0   \n",
       "2017-06-11 03:30:00        NaN     0.0          0.0         0.0           0.0   \n",
       "2017-06-11 04:00:00        NaN     0.0          0.0         0.0           0.0   \n",
       "2017-06-11 04:30:00        NaN     0.0          0.0         0.0           0.0   \n",
       "\n",
       "                     solarradiation  uv_index  temperature_indoor  \\\n",
       "date                                                                \n",
       "2017-06-11 00:00:00             0.0       NaN                 NaN   \n",
       "2017-06-11 00:30:00             0.0       NaN                 NaN   \n",
       "2017-06-11 01:00:00             0.0       NaN                 NaN   \n",
       "2017-06-11 01:30:00             0.0       NaN                 NaN   \n",
       "2017-06-11 02:00:00             0.0       NaN                 NaN   \n",
       "2017-06-11 02:30:00             0.0       NaN                 NaN   \n",
       "2017-06-11 03:00:00             0.0       NaN                 NaN   \n",
       "2017-06-11 03:30:00             0.0       NaN                 NaN   \n",
       "2017-06-11 04:00:00             0.0       NaN                 NaN   \n",
       "2017-06-11 04:30:00             0.0       NaN                 NaN   \n",
       "\n",
       "                     software_type  event  conditions  \n",
       "date                                                   \n",
       "2017-06-11 00:00:00            NaN    NaN         NaN  \n",
       "2017-06-11 00:30:00            NaN    NaN         NaN  \n",
       "2017-06-11 01:00:00            NaN    NaN         NaN  \n",
       "2017-06-11 01:30:00            NaN    NaN         NaN  \n",
       "2017-06-11 02:00:00            NaN    NaN         NaN  \n",
       "2017-06-11 02:30:00            NaN    NaN         NaN  \n",
       "2017-06-11 03:00:00            NaN    NaN         NaN  \n",
       "2017-06-11 03:30:00            NaN    NaN         NaN  \n",
       "2017-06-11 04:00:00            NaN    NaN         NaN  \n",
       "2017-06-11 04:30:00            NaN    NaN         NaN  "
      ]
     },
     "execution_count": 12,
     "metadata": {},
     "output_type": "execute_result"
    }
   ],
   "source": [
    "import pandas as pd\n",
    "from pandas import Series\n",
    "\n",
    "import os\n",
    "print(os.path.abspath)\n",
    "weather1 = pd.read_csv(\"../Excel/Weather_KVTCRAFT2_2017-06-11_2018-03-20.csv\", delimiter=\",\",header=0,date_parser=[1])\n",
    "weather2 = pd.read_csv(\"../Excel/Weather_KVTCRAFT2_2018-03-23_2018-10-16.csv\", delimiter=\",\",header=0,date_parser=[1])\n",
    "weather = [weather1, weather2]\n",
    "weather = pd.concat(weather)\n",
    "weather['time'] = pd.to_timedelta(weather['time'].astype(str))\n",
    "weather['date'] = pd.to_datetime(weather['date'])\n",
    "weather['date'] = weather['date'] + weather['time']\n",
    "weather['date'] = pd.to_datetime(weather['date'])\n",
    "\n",
    "# interpolation to 30 mins intervals done for you. You are welcome. You should still try to understand how it works.\n",
    "weather = weather.set_index('date')\n",
    "weather30mins_tmp = weather.resample('30Min').mean()\n",
    "weather30mins = weather30mins_tmp.interpolate(method='linear')\n",
    "# weather.set_index('date')\n",
    "weather30mins.head(10)"
   ]
  },
  {
   "cell_type": "code",
   "execution_count": 13,
   "metadata": {},
   "outputs": [
    {
     "data": {
      "image/png": "[encoded data removed]",
      "text/plain": [
       "<Figure size 432x288 with 1 Axes>"
      ]
     },
     "metadata": {
      "needs_background": "light"
     },
     "output_type": "display_data"
    }
   ],
   "source": [
    "ax = weather30mins.plot( y = 'solarradiation')"
   ]
  },
  {
   "cell_type": "code",
   "execution_count": 14,
   "metadata": {},
   "outputs": [
    {
     "data": {
      "text/plain": [
       "Index(['temperature', 'dewpoint', 'humidity', 'wind_speed', 'wind_gust_speed',\n",
       "       'wind_dir_degrees', 'pressure', 'windchill', 'heatindex', 'precip',\n",
       "       'precip_rate', 'precip_1hr', 'precip_today', 'solarradiation',\n",
       "       'uv_index', 'temperature_indoor', 'software_type', 'event',\n",
       "       'conditions'],\n",
       "      dtype='object')"
      ]
     },
     "execution_count": 14,
     "metadata": {},
     "output_type": "execute_result"
    }
   ],
   "source": [
    "weather30mins.columns"
   ]
  },
  {
   "cell_type": "code",
   "execution_count": 15,
   "metadata": {},
   "outputs": [],
   "source": [
    "sub_weather17 = weather30mins['2017-06-11':'2017-10-01']\n",
    "solarradiation17 = np.array(sub_weather17['solarradiation'])\n",
    "sub_weather18 = weather30mins['2018-06-11':'2018-10-01']\n",
    "solarradiation18 = np.array(sub_weather18['solarradiation'])"
   ]
  },
  {
   "cell_type": "code",
   "execution_count": 16,
   "metadata": {},
   "outputs": [],
   "source": [
    "dt = 1800.\n",
    "rho = 600.\n",
    "h_L= 334000\n",
    "A = 500\n",
    "def melt(q):\n",
    "    \"\"\"q must be solar radiation heat rate (W), i.e. solar radiation heat flux \n",
    "    times exposed surface area\"\"\" \n",
    "    global dt, rho, h_L\n",
    "    V_dt = -dt*q/(rho*h_L)\n",
    "    V = np.cumsum(V_dt)\n",
    "    return V\n",
    "\n",
    "Vloss17 = melt(solarradiation17*A)\n",
    "Vloss18 = melt(solarradiation18*A)\n"
   ]
  },
  {
   "cell_type": "code",
   "execution_count": 17,
   "metadata": {},
   "outputs": [
    {
     "data": {
      "image/png": "[encoded data removed]",
      "text/plain": [
       "<Figure size 432x288 with 1 Axes>"
      ]
     },
     "metadata": {
      "needs_background": "light"
     },
     "output_type": "display_data"
    }
   ],
   "source": [
    "time17 = np.arange(start = 0,stop=(len(solarradiation17)*1800),step=1800)\n",
    "time18 = np.arange(start = 0,stop=(len(solarradiation18)*1800),step=1800)\n",
    "plt.plot(time17,Vloss17)\n",
    "plt.plot(time18,Vloss18)\n",
    "plt.xlabel(\"Time (s)\",fontdict = font)\n",
    "plt.ylabel(\"Volume Loss ($m^3/s$)\",fontdict = font)\n",
    "plt.show()"
   ]
  },
  {
   "cell_type": "code",
   "execution_count": 18,
   "metadata": {},
   "outputs": [],
   "source": [
    "from scipy.constants import convert_temperature\n",
    "def C2K(T):\n",
    "    return convert_temperature(T,'Celsius','Kelvin')\n",
    "def C2F(T):\n",
    "    return convert_temperature(T,'Celsius','Fahrenheit')\n",
    "def F2K(T):\n",
    "    return convert_temperature(T,'Fahrenheit','Kelvin')\n",
    "def F2C(T):\n",
    "    return convert_temperature(T,'Fahrenheit','Celsius')\n",
    "def K2F(T):\n",
    "    return convert_temperature(T,'Kelvin','Fahrenheit')\n",
    "def K2C(T):\n",
    "    return convert_temperature(T,'Kelvin','Celsius')\n",
    "from scipy.optimize import fsolve\n",
    "T_melt = 0. #C\n",
    "g_reflective = 0.1\n",
    "sub_weather = weather30mins['2018-04-01':'2018-10-01']\n",
    "A_top = 2800\n",
    "A_soil = 400\n",
    "q_solar = np.array(sub_weather['solarradiation'])*A_top # W\n",
    "T_atm = np.array(sub_weather['temperature'])\n",
    "k_mulch = 0.07 #W/m.K\n",
    "d_mulch = 0.2 #m\n",
    "DeltaT_soil = 8 #K\n",
    "k_soil = 1 #W/m.K\n",
    "d_soil = 1 #m\n",
    "q_soil = k_soil*A_soil*DeltaT_soil/d_soil\n",
    "dt = 1800.\n",
    "rho_snow = 600.\n",
    "h_L_snow= 334000\n",
    "epsilon_top = 0.8\n",
    "from scipy.constants import sigma\n",
    "def melt_v1(q_solar,T_sky,q_soil):\n",
    "    \"\"\"q must be solar radiation heat rate (W), i.e. solar radiation heat flux \n",
    "    times exposed surface area\"\"\" \n",
    "    global dt, rho, h_L\n",
    "    N = len(q_solar)\n",
    "    T_s = np.zeros(N)\n",
    "    for i in range(N):\n",
    "        T_sky_i = T_sky[i]\n",
    "        def surfconsener(T_s):\n",
    "            return -k_mulch*A_top/d_mulch*(T_s-T_melt) \\\n",
    "        +g_reflective*q_solar[i] \\\n",
    "        +epsilon_top*sigma*A_top*(C2K(T_sky[i])**4-C2K(T_s)**4)\n",
    "        T_s[i] = fsolve(surfconsener,T_sky[i]/2)\n",
    "    q_top = k_mulch*A_top/d_mulch*(T_s-T_melt)\n",
    "    q = q_top+q_soil\n",
    "    V_dt = -dt*q/(rho*h_L)\n",
    "    V = np.cumsum(V_dt)\n",
    "    return V,T_s"
   ]
  },
  {
   "cell_type": "code",
   "execution_count": 19,
   "metadata": {},
   "outputs": [],
   "source": [
    "Vloss,T_s = melt_v1(q_solar,T_atm,q_soil)"
   ]
  },
  {
   "cell_type": "code",
   "execution_count": 20,
   "metadata": {},
   "outputs": [
    {
     "data": {
      "text/plain": [
       "[<matplotlib.lines.Line2D at 0x11c364e10>]"
      ]
     },
     "execution_count": 20,
     "metadata": {},
     "output_type": "execute_result"
    },
    {
     "data": {
      "image/png": "[encoded data removed]",
      "text/plain": [
       "<Figure size 432x288 with 1 Axes>"
      ]
     },
     "metadata": {
      "needs_background": "light"
     },
     "output_type": "display_data"
    }
   ],
   "source": [
    "plt.plot(T_s)"
   ]
  },
  {
   "cell_type": "code",
   "execution_count": 21,
   "metadata": {},
   "outputs": [
    {
     "data": {
      "text/plain": [
       "[<matplotlib.lines.Line2D at 0x11c5efa58>]"
      ]
     },
     "execution_count": 21,
     "metadata": {},
     "output_type": "execute_result"
    },
    {
     "data": {
      "image/png": "[encoded data removed]",
      "text/plain": [
       "<Figure size 432x288 with 1 Axes>"
      ]
     },
     "metadata": {
      "needs_background": "light"
     },
     "output_type": "display_data"
    }
   ],
   "source": [
    "plt.plot(Vloss)\n",
    "# plt.plot(T_atm)"
   ]
  },
  {
   "cell_type": "code",
   "execution_count": 22,
   "metadata": {},
   "outputs": [
    {
     "data": {
      "text/plain": [
       "[<matplotlib.lines.Line2D at 0x11a5912e8>]"
      ]
     },
     "execution_count": 22,
     "metadata": {},
     "output_type": "execute_result"
    },
    {
     "data": {
      "image/png": "[encoded data removed]",
      "text/plain": [
       "<Figure size 432x288 with 1 Axes>"
      ]
     },
     "metadata": {
      "needs_background": "light"
     },
     "output_type": "display_data"
    }
   ],
   "source": [
    "plt.plot(k_mulch*A_top/d_mulch*(T_atm-T_melt))\n",
    "plt.plot(epsilon_top*sigma*A_top*(C2K(T_atm)**4-C2K(0.9*T_atm)**4))"
   ]
  },
  {
   "cell_type": "code",
   "execution_count": 23,
   "metadata": {},
   "outputs": [
    {
     "data": {
      "text/plain": [
       "array([3.9, 4. , 4.4, ..., 7.4, 7.4, 7.4])"
      ]
     },
     "execution_count": 23,
     "metadata": {},
     "output_type": "execute_result"
    }
   ],
   "source": [
    "T_atm"
   ]
  },
  {
   "cell_type": "code",
   "execution_count": 24,
   "metadata": {},
   "outputs": [],
   "source": [
    "def pile_volume(R,h,L):\n",
    "    volume = np.pi*(R**2*L+(1/6)*h*(3*R**2 + h**2))\n",
    "    area_ground = 2*np.pi*R*L\n",
    "    area_top = np.pi*(R**2+h**2)\n",
    "    return volume,area_ground,area_top"
   ]
  },
  {
   "cell_type": "code",
   "execution_count": 128,
   "metadata": {},
   "outputs": [
    {
     "data": {
      "text/plain": [
       "(11343.243874561545, 376.99111843077515, 2877.6988706882503)"
      ]
     },
     "execution_count": 128,
     "metadata": {},
     "output_type": "execute_result"
    }
   ],
   "source": [
    "pile_volume(30,4,2)"
   ]
  },
  {
   "cell_type": "code",
   "execution_count": null,
   "metadata": {},
   "outputs": [],
   "source": []
  }
 ],
 "metadata": {
  "kernelspec": {
   "display_name": "Python 3",
   "language": "python",
   "name": "python3"
  },
  "language_info": {
   "codemirror_mode": {
    "name": "ipython",
    "version": 3
   },
   "file_extension": ".py",
   "mimetype": "text/x-python",
   "name": "python",
   "nbconvert_exporter": "python",
   "pygments_lexer": "ipython3",
   "version": "3.6.8"
  }
 },
 "nbformat": 4,
 "nbformat_minor": 2
}
